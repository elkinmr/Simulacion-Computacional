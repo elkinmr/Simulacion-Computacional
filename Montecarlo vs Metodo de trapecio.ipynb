{
 "cells": [
  {
   "cell_type": "code",
   "execution_count": 10,
   "metadata": {},
   "outputs": [
    {
     "name": "stdout",
     "output_type": "stream",
     "text": [
      "Resultado  0.8822565472244768\n"
     ]
    }
   ],
   "source": [
    "import math \n",
    "from random import random\n",
    "n=0\n",
    "suma=0\n",
    "x=0\n",
    "y=0\n",
    "while n<1000000:\n",
    "    x = 2*random()\n",
    "    y = 2*math.exp(-x**2)\n",
    "    suma = suma + y\n",
    "    n = n + 1\n",
    "print(\"Resultado por metodo Montecarlo: \",suma/n)"
   ]
  },
  {
   "cell_type": "code",
   "execution_count": 11,
   "metadata": {
    "scrolled": true
   },
   "outputs": [
    {
     "name": "stdout",
     "output_type": "stream",
     "text": [
      "Metodo de Montecarlo:  0.8831243468109293\n"
     ]
    }
   ],
   "source": [
    "import math\n",
    "\n",
    "def metTrapecio(p):\n",
    "    suma = 0\n",
    "    x = 0\n",
    "    x1 = 0\n",
    "    x2 = 0\n",
    "    fx2 = 0\n",
    "    tria = 0\n",
    "    while (x2 <= 2):\n",
    "        fx2 = math.exp(-x2**2)\n",
    "        tria = (math.exp(-x1**2) - fx2)*p/2\n",
    "        suma = suma + tria + fx2 * p\n",
    "        x1 = x2\n",
    "        x2 = x2 + p\n",
    "    return suma\n",
    "\n",
    "print(\"Resultado por metodo Trapecio: \", metTrapecio(0.000001))"
   ]
  }
 ],
 "metadata": {
  "kernelspec": {
   "display_name": "Python 3",
   "language": "python",
   "name": "python3"
  },
  "language_info": {
   "codemirror_mode": {
    "name": "ipython",
    "version": 3
   },
   "file_extension": ".py",
   "mimetype": "text/x-python",
   "name": "python",
   "nbconvert_exporter": "python",
   "pygments_lexer": "ipython3",
   "version": "3.6.5"
  }
 },
 "nbformat": 4,
 "nbformat_minor": 2
}
